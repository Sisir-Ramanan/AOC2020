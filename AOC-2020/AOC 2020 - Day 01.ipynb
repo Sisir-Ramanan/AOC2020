{
 "cells": [
  {
   "cell_type": "markdown",
   "metadata": {},
   "source": [
    "## Advent of Code - Day 1"
   ]
  },
  {
   "cell_type": "markdown",
   "metadata": {},
   "source": [
    "### Part 1 - Two Sum Problem\n",
    "\n",
    "Problem Statement - Given an unsorted list of numbers and a sum, need to find the product of the pair of numbers that would yield the given sum.\n",
    "\n",
    "Solution Algorithm\n",
    "- Here we will go through each element in the list, find the complement, that is, sum - element.\n",
    "- We will then look up this complement in a dictionary (fast searching).\n",
    "- If we find the element, then break the loop and return the product of these pair of numbers\n",
    "- If complement is not found, insert the element in the dictionary and continue iteration"
   ]
  },
  {
   "cell_type": "code",
   "execution_count": 63,
   "metadata": {
    "ExecuteTime": {
     "end_time": "2020-12-01T21:17:10.364641Z",
     "start_time": "2020-12-01T21:17:10.356663Z"
    }
   },
   "outputs": [],
   "source": [
    "def twosum_mult(mylist, twosum):\n",
    "    tablelook = {}\n",
    "       \n",
    "    \n",
    "    for index in range(len(mylist)):\n",
    "        compliment = twosum - mylist[index]\n",
    "        if compliment in tablelook:\n",
    "            res = mylist[index]*compliment  # our answer assuming unique\n",
    "            break\n",
    "        tablelook[mylist[index]] = mylist[index]\n",
    " \n",
    "    return res \n",
    "\n",
    "            "
   ]
  },
  {
   "cell_type": "code",
   "execution_count": 65,
   "metadata": {
    "ExecuteTime": {
     "end_time": "2020-12-01T21:28:32.913511Z",
     "start_time": "2020-12-01T21:28:32.908522Z"
    }
   },
   "outputs": [],
   "source": [
    "with open('data.txt') as f:\n",
    "    inputdata = f.read().splitlines()"
   ]
  },
  {
   "cell_type": "code",
   "execution_count": 67,
   "metadata": {
    "ExecuteTime": {
     "end_time": "2020-12-01T21:28:48.802611Z",
     "start_time": "2020-12-01T21:28:48.798622Z"
    }
   },
   "outputs": [],
   "source": [
    "mylist = list(map(int,inputdata))"
   ]
  },
  {
   "cell_type": "code",
   "execution_count": 68,
   "metadata": {
    "ExecuteTime": {
     "end_time": "2020-12-01T21:28:59.626362Z",
     "start_time": "2020-12-01T21:28:59.620383Z"
    }
   },
   "outputs": [
    {
     "data": {
      "text/plain": [
       "633216"
      ]
     },
     "execution_count": 68,
     "metadata": {},
     "output_type": "execute_result"
    }
   ],
   "source": [
    "twosum_mult(mylist,2020)"
   ]
  },
  {
   "cell_type": "markdown",
   "metadata": {},
   "source": [
    "### Part Two - Three Sum Problem\n",
    "\n",
    "Problem Statement - Need to find a triplet of numbers that sum to 2020 and then their multiple.\n",
    "\n",
    "Solution - The only difference here is we first find the complement and then this complement is now actually the sum of two numbers. So we can apply the same algorithm we used before in the inner loop."
   ]
  },
  {
   "cell_type": "code",
   "execution_count": 59,
   "metadata": {
    "ExecuteTime": {
     "end_time": "2020-12-01T21:15:32.139589Z",
     "start_time": "2020-12-01T21:15:32.132611Z"
    }
   },
   "outputs": [],
   "source": [
    "def threesum_mult(mylist, sum): \n",
    "    for i in range(len(mylist)): \n",
    "        tablelook = {}\n",
    "        complement = sum - mylist[i] \n",
    "        for j in range(i+1,len(mylist)): \n",
    "            if (complement - mylist[j]) in tablelook: \n",
    "                res = mylist[i]*mylist[j]*(complement - mylist[j])\n",
    "                return res \n",
    "            tablelook[mylist[j]] = mylist[j] \n",
    "      \n",
    "    return res "
   ]
  },
  {
   "cell_type": "code",
   "execution_count": 69,
   "metadata": {
    "ExecuteTime": {
     "end_time": "2020-12-01T21:36:53.806480Z",
     "start_time": "2020-12-01T21:36:53.797504Z"
    }
   },
   "outputs": [
    {
     "data": {
      "text/plain": [
       "68348924"
      ]
     },
     "execution_count": 69,
     "metadata": {},
     "output_type": "execute_result"
    }
   ],
   "source": [
    "threesum_mult(mylist,2020)"
   ]
  }
 ],
 "metadata": {
  "kernelspec": {
   "display_name": "Python 3",
   "language": "python",
   "name": "python3"
  },
  "language_info": {
   "codemirror_mode": {
    "name": "ipython",
    "version": 3
   },
   "file_extension": ".py",
   "mimetype": "text/x-python",
   "name": "python",
   "nbconvert_exporter": "python",
   "pygments_lexer": "ipython3",
   "version": "3.8.3"
  }
 },
 "nbformat": 4,
 "nbformat_minor": 4
}
