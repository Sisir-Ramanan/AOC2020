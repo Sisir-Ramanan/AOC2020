{
 "cells": [
  {
   "cell_type": "markdown",
   "metadata": {},
   "source": [
    "# AOC 2020 - Day 2\n",
    "\n",
    "\n",
    "## Part 1"
   ]
  },
  {
   "cell_type": "code",
   "execution_count": 3,
   "metadata": {
    "ExecuteTime": {
     "end_time": "2020-12-02T22:41:54.814980Z",
     "start_time": "2020-12-02T22:41:54.809992Z"
    }
   },
   "outputs": [],
   "source": [
    "with open('input_day2.txt') as f:\n",
    "    data = f.read().splitlines()"
   ]
  },
  {
   "cell_type": "markdown",
   "metadata": {},
   "source": [
    "We just need to split the string based on white spaces and then check if the count of the letter satisfies the policy. Here the policy is that the letter's occurence in the password is between two interval points (inclusive)."
   ]
  },
  {
   "cell_type": "code",
   "execution_count": 16,
   "metadata": {
    "ExecuteTime": {
     "end_time": "2020-12-02T23:08:03.427313Z",
     "start_time": "2020-12-02T23:08:03.417340Z"
    }
   },
   "outputs": [
    {
     "name": "stdout",
     "output_type": "stream",
     "text": [
      "398\n"
     ]
    }
   ],
   "source": [
    "count = 0 # no. of valid passwords counter\n",
    "for c in data:\n",
    "    li = c.split()\n",
    "    policy = li[0].split('-')\n",
    "    minim = int(policy[0])  # min number of times\n",
    "    maxim = int(policy[1])   # max number of times\n",
    "    letter = li[1].split(':')[0]\n",
    "    password = li[2]\n",
    "    if minim <= password.count(letter) <= maxim:  # if it satisfies policy\n",
    "        count += 1\n",
    "\n",
    "\n",
    "print(count)\n",
    "    "
   ]
  },
  {
   "cell_type": "markdown",
   "metadata": {},
   "source": [
    "## Part 2\n",
    "\n",
    "In the second part, the policy is different. Now, a password is valid only when **exactly one** of the positions contains the letter."
   ]
  },
  {
   "cell_type": "code",
   "execution_count": 15,
   "metadata": {
    "ExecuteTime": {
     "end_time": "2020-12-02T23:07:58.409565Z",
     "start_time": "2020-12-02T23:07:58.395603Z"
    }
   },
   "outputs": [
    {
     "name": "stdout",
     "output_type": "stream",
     "text": [
      "562\n"
     ]
    }
   ],
   "source": [
    "count = 0 # no. of valid passwords counter\n",
    "for c in data:\n",
    "    li = c.split()\n",
    "    policy = li[0].split('-')\n",
    "    pos1 = int(policy[0])\n",
    "    pos2 = int(policy[1])\n",
    "    letter = li[1].split(':')[0]\n",
    "    password = li[2]\n",
    "    \n",
    "    # check policy \n",
    "    if password[pos1-1] == letter and password[pos2-1] != letter:   # exactly one position\n",
    "        count += 1\n",
    "    elif password[pos1-1] != letter and password[pos2-1] == letter:\n",
    "        count += 1\n",
    "\n",
    "\n",
    "print(count)"
   ]
  }
 ],
 "metadata": {
  "kernelspec": {
   "display_name": "Python 3",
   "language": "python",
   "name": "python3"
  },
  "language_info": {
   "codemirror_mode": {
    "name": "ipython",
    "version": 3
   },
   "file_extension": ".py",
   "mimetype": "text/x-python",
   "name": "python",
   "nbconvert_exporter": "python",
   "pygments_lexer": "ipython3",
   "version": "3.8.3"
  }
 },
 "nbformat": 4,
 "nbformat_minor": 4
}
